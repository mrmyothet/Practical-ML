{
 "cells": [
  {
   "cell_type": "code",
   "execution_count": null,
   "id": "82ffcf9f",
   "metadata": {},
   "outputs": [],
   "source": [
    "import numpy as np\n",
    "import pandas as pd\n",
    "import matplotlib.pyplot as plt\n",
    "from sklearn.cluster import KMeans\n",
    "from sklearn.preprocessing import StandardScaler\n",
    "from sklearn.metrics import silhouette_score # Optional, for another evaluation metric\n"
   ]
  },
  {
   "cell_type": "code",
   "execution_count": null,
   "id": "c2db3ed5",
   "metadata": {},
   "outputs": [],
   "source": [
    "np.random.seed(42)\n",
    "num_customers = 200"
   ]
  },
  {
   "cell_type": "code",
   "execution_count": null,
   "id": "eb86cab6",
   "metadata": {},
   "outputs": [],
   "source": [
    "data_dict = {\n",
    "    'Annual_Spending_USD': np.concatenate([\n",
    "        np.random.normal(500, 100, 50),   # Low Spenders\n",
    "        np.random.normal(2000, 300, 50),  # Medium Spenders\n",
    "        np.random.normal(5000, 800, 50),  # High Spenders\n",
    "        np.random.normal(1200, 200, 50)   # Another medium group\n",
    "    ]),\n",
    "    'Customer_Age': np.concatenate([\n",
    "        np.random.normal(25, 5, 50),      # Young\n",
    "        np.random.normal(40, 7, 50),      # Middle-aged\n",
    "        np.random.normal(55, 8, 50),      # Older\n",
    "        np.random.normal(30, 6, 50)       # Younger, mixed\n",
    "    ])\n",
    "}\n",
    "data = pd.DataFrame(data_dict)"
   ]
  },
  {
   "cell_type": "code",
   "execution_count": null,
   "id": "cfe84289",
   "metadata": {},
   "outputs": [],
   "source": [
    "# min 18 years old and min 100 USD spending\n",
    "data['Annual_Spending_USD'] = data['Annual_Spending_USD'].apply(lambda x: max(x, 100))\n",
    "data['Customer_Age'] = data['Customer_Age'].apply(lambda x: max(x, 18))\n",
    "data.head()"
   ]
  }
 ],
 "metadata": {
  "language_info": {
   "name": "python"
  }
 },
 "nbformat": 4,
 "nbformat_minor": 5
}
