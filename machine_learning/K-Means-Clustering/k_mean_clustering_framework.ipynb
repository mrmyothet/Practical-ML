{
 "cells": [
  {
   "cell_type": "code",
   "execution_count": 1,
   "id": "4a4db456",
   "metadata": {},
   "outputs": [],
   "source": [
    "import numpy as np\n",
    "import pandas as pd\n",
    "import matplotlib.pyplot as plt\n",
    "from sklearn.cluster import KMeans\n",
    "from sklearn.preprocessing import StandardScaler\n",
    "from sklearn.metrics import silhouette_score # Optional, for another evaluation metric\n"
   ]
  },
  {
   "cell_type": "code",
   "execution_count": 2,
   "id": "16acc592",
   "metadata": {},
   "outputs": [],
   "source": [
    "np.random.seed(42)\n",
    "num_customers = 200"
   ]
  },
  {
   "cell_type": "code",
   "execution_count": 3,
   "id": "40c933a1",
   "metadata": {},
   "outputs": [],
   "source": [
    "data = {\n",
    "    'Annual_Spending_USD': np.concatenate([\n",
    "        np.random.normal(500, 100, 50),   # Low Spenders\n",
    "        np.random.normal(2000, 300, 50),  # Medium Spenders\n",
    "        np.random.normal(5000, 800, 50),  # High Spenders\n",
    "        np.random.normal(1200, 200, 50)   # Another medium group\n",
    "    ]),\n",
    "    'Customer_Age': np.concatenate([\n",
    "        np.random.normal(25, 5, 50),      # Young\n",
    "        np.random.normal(40, 7, 50),      # Middle-aged\n",
    "        np.random.normal(55, 8, 50),      # Older\n",
    "        np.random.normal(30, 6, 50)       # Younger, mixed\n",
    "    ])\n",
    "}\n",
    "df = pd.DataFrame(data)"
   ]
  },
  {
   "cell_type": "code",
   "execution_count": 4,
   "id": "e9ea5e91",
   "metadata": {},
   "outputs": [],
   "source": [
    "# min 18 years old and min 100 USD spending\n",
    "df['Annual_Spending_USD'] = df['Annual_Spending_USD'].apply(lambda x: max(x, 100))\n",
    "df['Customer_Age'] = df['Customer_Age'].apply(lambda x: max(x, 18))\n"
   ]
  },
  {
   "cell_type": "code",
   "execution_count": 5,
   "id": "aaad475d",
   "metadata": {},
   "outputs": [
    {
     "data": {
      "text/html": [
       "<div>\n",
       "<style scoped>\n",
       "    .dataframe tbody tr th:only-of-type {\n",
       "        vertical-align: middle;\n",
       "    }\n",
       "\n",
       "    .dataframe tbody tr th {\n",
       "        vertical-align: top;\n",
       "    }\n",
       "\n",
       "    .dataframe thead th {\n",
       "        text-align: right;\n",
       "    }\n",
       "</style>\n",
       "<table border=\"1\" class=\"dataframe\">\n",
       "  <thead>\n",
       "    <tr style=\"text-align: right;\">\n",
       "      <th></th>\n",
       "      <th>Annual_Spending_USD</th>\n",
       "      <th>Customer_Age</th>\n",
       "    </tr>\n",
       "  </thead>\n",
       "  <tbody>\n",
       "    <tr>\n",
       "      <th>0</th>\n",
       "      <td>549.671415</td>\n",
       "      <td>26.788937</td>\n",
       "    </tr>\n",
       "    <tr>\n",
       "      <th>1</th>\n",
       "      <td>486.173570</td>\n",
       "      <td>27.803923</td>\n",
       "    </tr>\n",
       "    <tr>\n",
       "      <th>2</th>\n",
       "      <td>564.768854</td>\n",
       "      <td>30.415256</td>\n",
       "    </tr>\n",
       "    <tr>\n",
       "      <th>3</th>\n",
       "      <td>652.302986</td>\n",
       "      <td>30.269010</td>\n",
       "    </tr>\n",
       "    <tr>\n",
       "      <th>4</th>\n",
       "      <td>476.584663</td>\n",
       "      <td>18.111653</td>\n",
       "    </tr>\n",
       "  </tbody>\n",
       "</table>\n",
       "</div>"
      ],
      "text/plain": [
       "   Annual_Spending_USD  Customer_Age\n",
       "0           549.671415     26.788937\n",
       "1           486.173570     27.803923\n",
       "2           564.768854     30.415256\n",
       "3           652.302986     30.269010\n",
       "4           476.584663     18.111653"
      ]
     },
     "execution_count": 5,
     "metadata": {},
     "output_type": "execute_result"
    }
   ],
   "source": [
    "df.head()"
   ]
  }
 ],
 "metadata": {
  "kernelspec": {
   "display_name": "DecisionTree-_QoBF6wc",
   "language": "python",
   "name": "python3"
  },
  "language_info": {
   "codemirror_mode": {
    "name": "ipython",
    "version": 3
   },
   "file_extension": ".py",
   "mimetype": "text/x-python",
   "name": "python",
   "nbconvert_exporter": "python",
   "pygments_lexer": "ipython3",
   "version": "3.10.18"
  }
 },
 "nbformat": 4,
 "nbformat_minor": 5
}
