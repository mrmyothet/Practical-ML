{
 "cells": [
  {
   "cell_type": "code",
   "execution_count": 2,
   "id": "959bcce9",
   "metadata": {},
   "outputs": [
    {
     "name": "stdout",
     "output_type": "stream",
     "text": [
      "Your Sudent ID is: ML_Summer_School_THS\n"
     ]
    }
   ],
   "source": [
    "import os\n",
    "from dotenv import load_dotenv\n",
    "load_dotenv()\n",
    "\n",
    "ML_Summer_School_ID = os.getenv('ML_Summer_School_ID')\n",
    "print(\"Your Sudent ID is: \" + ML_Summer_School_ID)"
   ]
  },
  {
   "cell_type": "markdown",
   "id": "c52f2349",
   "metadata": {},
   "source": [
    "### Loading, Displaying and Saving Images"
   ]
  },
  {
   "cell_type": "code",
   "execution_count": null,
   "id": "618938d0",
   "metadata": {},
   "outputs": [],
   "source": [
    "!pip install opencv-python\n",
    "!pip install python-dotenv"
   ]
  },
  {
   "cell_type": "code",
   "execution_count": null,
   "id": "270f635e",
   "metadata": {},
   "outputs": [],
   "source": []
  },
  {
   "cell_type": "code",
   "execution_count": 15,
   "id": "7c0a9115",
   "metadata": {},
   "outputs": [
    {
     "name": "stdout",
     "output_type": "stream",
     "text": [
      "<class 'numpy.ndarray'>\n",
      "(100, 150, 3)\n"
     ]
    },
    {
     "data": {
      "text/plain": [
       "True"
      ]
     },
     "execution_count": 15,
     "metadata": {},
     "output_type": "execute_result"
    }
   ],
   "source": [
    "import cv2\n",
    "import numpy as np\n",
    "import matplotlib.pyplot as plt\n",
    "\n",
    "\n",
    "# Create a dummy image\n",
    "dummy_image = np.zeros((100, 150, 3), dtype=np.uint8)\n",
    "\n",
    "print(type(dummy_image))\n",
    "print(dummy_image.shape)\n",
    "\n",
    "dummy_image[:, :] = (255, 255,0 ) # B G R for light blue\n",
    "cv2.imwrite(f'{ML_Summer_School_ID}.jpg', dummy_image)"
   ]
  },
  {
   "cell_type": "code",
   "execution_count": 17,
   "id": "7ae163c6",
   "metadata": {},
   "outputs": [
    {
     "name": "stdout",
     "output_type": "stream",
     "text": [
      "Image loaded. Shape: (100, 150, 3), Data Type: uint8\n"
     ]
    },
    {
     "data": {
      "image/png": "[encoded data removed]",
      "text/plain": [
       "<Figure size 600x400 with 1 Axes>"
      ]
     },
     "metadata": {},
     "output_type": "display_data"
    }
   ],
   "source": [
    "# load image\n",
    "img_bgr = cv2.imread(f'{ML_Summer_School_ID}.jpg') #Read as BGR\n",
    "\n",
    "if img_bgr is None:\n",
    "    print(\"Error: Could not load image. Make sure 'sample_image.jpg' exists.\")\n",
    "else:\n",
    "    print(f\"Image loaded. Shape: {img_bgr.shape}, Data Type: {img_bgr.dtype}\")\n",
    "    \n",
    "    \n",
    "    img_rgb = cv2.cvtColor(img_bgr, cv2.COLOR_BGR2RGB)\n",
    "\n",
    "\n",
    "\n",
    "    # Display the image\n",
    "    plt.figure(figsize=(6, 4))\n",
    "    \n",
    "    plt.imshow(img_rgb)\n",
    "    \n",
    "    plt.title('Original Image (RGB)')\n",
    "    plt.axis('off') # Hide axes ticks\n",
    "    plt.show()"
   ]
  },
  {
   "cell_type": "markdown",
   "id": "39a49fed",
   "metadata": {},
   "source": []
  },
  {
   "cell_type": "code",
   "execution_count": 18,
   "id": "11247c14",
   "metadata": {},
   "outputs": [
    {
     "name": "stdout",
     "output_type": "stream",
     "text": [
      "Image saved as 'saved_image.png'\n"
     ]
    }
   ],
   "source": [
    "cv2.imwrite('saved_image.png', img_rgb)\n",
    "print(\"Image saved as 'saved_image.png'\")"
   ]
  },
  {
   "cell_type": "code",
   "execution_count": 21,
   "id": "ead84ac4",
   "metadata": {},
   "outputs": [
    {
     "name": "stdout",
     "output_type": "stream",
     "text": [
      "Top-left pixel (BGR): [  0   0 255]\n",
      "Modified top-left pixel (BGR): [  0   0 255]\n"
     ]
    }
   ],
   "source": [
    "print(f\"Top-left pixel (BGR): {img_bgr[0, 0]}\")\n",
    "# Modifying a pixel \n",
    "img_bgr[0, 0] = [0, 0, 255] # BGR for Red\n",
    "print(f\"Modified top-left pixel (BGR): {img_bgr[0, 0]}\")"
   ]
  },
  {
   "cell_type": "code",
   "execution_count": 22,
   "id": "d4d3d9ef",
   "metadata": {},
   "outputs": [
    {
     "name": "stdout",
     "output_type": "stream",
     "text": [
      "(100, 150, 3)\n",
      "<class 'numpy.ndarray'>\n"
     ]
    }
   ],
   "source": [
    "print(img_bgr.shape)\n",
    "print(type(img_bgr))"
   ]
  },
  {
   "cell_type": "markdown",
   "id": "970b0280",
   "metadata": {},
   "source": [
    "### Reshape"
   ]
  },
  {
   "cell_type": "code",
   "execution_count": 89,
   "id": "bd2366a9",
   "metadata": {},
   "outputs": [
    {
     "data": {
      "text/plain": [
       "(15000, 3)"
      ]
     },
     "execution_count": 89,
     "metadata": {},
     "output_type": "execute_result"
    }
   ],
   "source": [
    "import numpy as np\n",
    "respaed_arry = np.reshape(img_bgr, (img_bgr.shape[0] * img_bgr.shape[1], img_bgr.shape[2]))\n",
    "respaed_arry.shape"
   ]
  },
  {
   "cell_type": "code",
   "execution_count": 90,
   "id": "c08435ac",
   "metadata": {},
   "outputs": [
    {
     "name": "stdout",
     "output_type": "stream",
     "text": [
      "Before reshape: (2, 3)\n",
      "After reshape: (6,)\n"
     ]
    }
   ],
   "source": [
    "import numpy as np\n",
    "a = np.array([[1,2,3], [4,5,6]])\n",
    "print(\"Before reshape:\", a.shape)\n",
    "b = np.reshape(a, 6)\n",
    "print(\"After reshape:\", b.shape)\n",
    "\n",
    "\n"
   ]
  },
  {
   "cell_type": "code",
   "execution_count": 91,
   "id": "e78c7e4d",
   "metadata": {},
   "outputs": [
    {
     "data": {
      "text/plain": [
       "array([1, 2, 3, 4, 5, 6])"
      ]
     },
     "execution_count": 91,
     "metadata": {},
     "output_type": "execute_result"
    }
   ],
   "source": [
    "a.reshape(-1)\n",
    "\n"
   ]
  },
  {
   "cell_type": "markdown",
   "id": "6dcdae3e",
   "metadata": {},
   "source": [
    "### Image epand or Feeding to the model"
   ]
  },
  {
   "cell_type": "code",
   "execution_count": 39,
   "id": "188ff9fe",
   "metadata": {},
   "outputs": [
    {
     "name": "stdout",
     "output_type": "stream",
     "text": [
      "[[1 2 3]\n",
      " [4 5 6]]\n"
     ]
    },
    {
     "data": {
      "text/plain": [
       "(2, 3)"
      ]
     },
     "execution_count": 39,
     "metadata": {},
     "output_type": "execute_result"
    }
   ],
   "source": [
    "temp = np.array([[1,2,3],[4,5,6]])\n",
    "print(temp)\n",
    "temp.shape"
   ]
  },
  {
   "cell_type": "code",
   "execution_count": 40,
   "id": "5d096cb6",
   "metadata": {},
   "outputs": [
    {
     "name": "stdout",
     "output_type": "stream",
     "text": [
      "[1 2 3 4 5 6]\n",
      "[[1 2]\n",
      " [3 4]\n",
      " [5 6]]\n"
     ]
    }
   ],
   "source": [
    "a = temp.reshape(6)\n",
    "print(a)\n",
    "b = a.reshape(3,2)\n",
    "print(b)"
   ]
  },
  {
   "cell_type": "code",
   "execution_count": 42,
   "id": "997799b1",
   "metadata": {},
   "outputs": [
    {
     "name": "stdout",
     "output_type": "stream",
     "text": [
      "[1 2 0 0 0 0]\n"
     ]
    }
   ],
   "source": [
    "a[2:] = 0\n",
    "print(a)"
   ]
  },
  {
   "cell_type": "code",
   "execution_count": null,
   "id": "c01810ec",
   "metadata": {},
   "outputs": [],
   "source": []
  },
  {
   "cell_type": "code",
   "execution_count": 23,
   "id": "f7d3b860",
   "metadata": {},
   "outputs": [
    {
     "name": "stdout",
     "output_type": "stream",
     "text": [
      "<class 'numpy.ndarray'>\n",
      "(1, 100, 150, 3)\n"
     ]
    }
   ],
   "source": [
    "# Method - 1\n",
    "new_arry = img_bgr.reshape(1, 100, 150, 3)\n",
    "print(type(new_arry))\n",
    "print(new_arry.shape) "
   ]
  },
  {
   "cell_type": "code",
   "execution_count": null,
   "id": "48e840d3",
   "metadata": {},
   "outputs": [
    {
     "name": "stdout",
     "output_type": "stream",
     "text": [
      "<class 'numpy.ndarray'>\n",
      "(1, 100, 150, 3)\n"
     ]
    }
   ],
   "source": [
    "# Method - 2 \n",
    "new_arry = img_bgr[None, :,:,:]\n",
    "print(type(new_arry))\n",
    "print(new_arry.shape) "
   ]
  },
  {
   "cell_type": "code",
   "execution_count": 94,
   "id": "a6507ec6",
   "metadata": {},
   "outputs": [
    {
     "name": "stdout",
     "output_type": "stream",
     "text": [
      "ML_Summer_School_THS image:  (100, 150, 3)\n",
      "<class 'numpy.ndarray'>\n",
      "(1, 100, 150, 3)\n",
      "<class 'numpy.ndarray'>\n",
      "(1, 100, 150, 3)\n"
     ]
    }
   ],
   "source": [
    "# Method - 3\n",
    "\n",
    "print(f\"{ML_Summer_School_ID} image: \",img_bgr.shape)\n",
    "new_arr = np.expand_dims(img_bgr, axis=0)\n",
    "\n",
    "print(type(new_arr))\n",
    "print(new_arr.shape) \n",
    "\n",
    "# you can also do like this But NOT recommand Specially when you are working with Tensor\n",
    "\n",
    "new_arr1= np.array([img_bgr])\n",
    "print(type(new_arr1))\n",
    "print(new_arr1.shape) "
   ]
  },
  {
   "cell_type": "code",
   "execution_count": null,
   "id": "6ba94b68",
   "metadata": {},
   "outputs": [],
   "source": []
  },
  {
   "cell_type": "code",
   "execution_count": null,
   "id": "ebad71ae",
   "metadata": {},
   "outputs": [],
   "source": []
  },
  {
   "cell_type": "code",
   "execution_count": null,
   "id": "04887ea0",
   "metadata": {},
   "outputs": [],
   "source": []
  }
 ],
 "metadata": {
  "kernelspec": {
   "display_name": "ths_dev",
   "language": "python",
   "name": "python3"
  },
  "language_info": {
   "codemirror_mode": {
    "name": "ipython",
    "version": 3
   },
   "file_extension": ".py",
   "mimetype": "text/x-python",
   "name": "python",
   "nbconvert_exporter": "python",
   "pygments_lexer": "ipython3",
   "version": "3.10.16"
  }
 },
 "nbformat": 4,
 "nbformat_minor": 5
}
