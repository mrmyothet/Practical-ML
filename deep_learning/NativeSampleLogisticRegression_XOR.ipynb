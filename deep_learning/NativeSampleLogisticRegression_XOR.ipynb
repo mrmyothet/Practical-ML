{
 "cells": [
  {
   "cell_type": "code",
   "execution_count": null,
   "id": "914b0b46",
   "metadata": {},
   "outputs": [],
   "source": [
    "# 1. import libs\n",
    "\n",
    "import numpy as np\n",
    "from deep_learning import Perceptron\n",
    "import matplotlib.pyplot as plt"
   ]
  },
  {
   "cell_type": "code",
   "execution_count": null,
   "id": "0984f795",
   "metadata": {},
   "outputs": [],
   "source": [
    "# 2. Create inputs and outputs samples\n",
    "\n",
    "inputs = np.array([\n",
    "    [0,0,0],\n",
    "    [0,0,1],\n",
    "    [0,1,0],\n",
    "    [1,0,1],\n",
    "    [1,1,0],\n",
    "    [1,1,1]\n",
    "    \n",
    "])\n",
    "\n",
    "outputs = np.array([[0],[1],[1],[0],[0],[1]])\n",
    "print(\"X shape : \",inputs.shape)\n",
    "print(\"Y shape : \",outputs.shape)\n"
   ]
  },
  {
   "cell_type": "code",
   "execution_count": null,
   "id": "9c618150",
   "metadata": {},
   "outputs": [],
   "source": [
    "\n",
    "# 3. Create perceptron and train it\n",
    "\n",
    "p = Perceptron(inputs,outputs)\n",
    "p.train()\n",
    "\n",
    "plt.figure(figsize = (15,5))\n",
    "plt.plot(p.epoch_list, p.error_history)\n",
    "plt.xlabel(\"Epoch\")\n",
    "plt.ylabel(\"Error\")\n",
    "plt.show()"
   ]
  },
  {
   "cell_type": "code",
   "execution_count": null,
   "id": "a0efef0c",
   "metadata": {},
   "outputs": [],
   "source": []
  }
 ],
 "metadata": {
  "kernelspec": {
   "display_name": "deep_learning-YvpSd5vt",
   "language": "python",
   "name": "python3"
  },
  "language_info": {
   "name": "python",
   "version": "3.11.13"
  }
 },
 "nbformat": 4,
 "nbformat_minor": 5
}
