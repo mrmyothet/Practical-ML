{
 "cells": [
  {
   "cell_type": "code",
   "execution_count": 1,
   "id": "b5decccd",
   "metadata": {},
   "outputs": [
    {
     "name": "stderr",
     "output_type": "stream",
     "text": [
      "2025-08-02 02:09:55.389281: I external/local_xla/xla/tsl/cuda/cudart_stub.cc:32] Could not find cuda drivers on your machine, GPU will not be used.\n",
      "2025-08-02 02:09:55.409621: I external/local_xla/xla/tsl/cuda/cudart_stub.cc:32] Could not find cuda drivers on your machine, GPU will not be used.\n",
      "2025-08-02 02:09:55.452445: E external/local_xla/xla/stream_executor/cuda/cuda_fft.cc:467] Unable to register cuFFT factory: Attempting to register factory for plugin cuFFT when one has already been registered\n",
      "WARNING: All log messages before absl::InitializeLog() is called are written to STDERR\n",
      "E0000 00:00:1754075395.524684  101979 cuda_dnn.cc:8579] Unable to register cuDNN factory: Attempting to register factory for plugin cuDNN when one has already been registered\n",
      "E0000 00:00:1754075395.546627  101979 cuda_blas.cc:1407] Unable to register cuBLAS factory: Attempting to register factory for plugin cuBLAS when one has already been registered\n",
      "W0000 00:00:1754075395.600954  101979 computation_placer.cc:177] computation placer already registered. Please check linkage and avoid linking the same target more than once.\n",
      "W0000 00:00:1754075395.601015  101979 computation_placer.cc:177] computation placer already registered. Please check linkage and avoid linking the same target more than once.\n",
      "W0000 00:00:1754075395.601023  101979 computation_placer.cc:177] computation placer already registered. Please check linkage and avoid linking the same target more than once.\n",
      "W0000 00:00:1754075395.601030  101979 computation_placer.cc:177] computation placer already registered. Please check linkage and avoid linking the same target more than once.\n",
      "2025-08-02 02:09:55.618920: I tensorflow/core/platform/cpu_feature_guard.cc:210] This TensorFlow binary is optimized to use available CPU instructions in performance-critical operations.\n",
      "To enable the following instructions: AVX2 FMA, in other operations, rebuild TensorFlow with the appropriate compiler flags.\n"
     ]
    }
   ],
   "source": [
    "import tensorflow as tf\n",
    "from tensorflow.keras import layers, models, datasets, optimizers\n",
    "from tensorflow.keras import mixed_precision\n",
    "import os\n",
    "import psutil\n",
    "import platform\n",
    "import subprocess"
   ]
  },
  {
   "cell_type": "code",
   "execution_count": 2,
   "id": "805a3e89",
   "metadata": {},
   "outputs": [
    {
     "data": {
      "text/plain": [
       "'2.19.0'"
      ]
     },
     "execution_count": 2,
     "metadata": {},
     "output_type": "execute_result"
    }
   ],
   "source": [
    "import tensorflow as tf\n",
    "tf.__version__"
   ]
  },
  {
   "cell_type": "code",
   "execution_count": 3,
   "id": "fd534e16",
   "metadata": {},
   "outputs": [],
   "source": [
    "def get_system_specs():\n",
    "    \"\"\"Gathers and prints information about the system's hardware.\"\"\"\n",
    "    print(\"=\"*40)\n",
    "    print(\"SYSTEM & HARDWARE INFORMATION\")\n",
    "    print(\"=\"*40)\n",
    "\n",
    "    # OS Info\n",
    "    print(f\"OS: {platform.system()} {platform.release()}\")\n",
    "\n",
    "    # CPU Info\n",
    "    print(f\"CPU Cores: {psutil.cpu_count(logical=True)}\")\n",
    "\n",
    "    # RAM Info\n",
    "    ram_gb = psutil.virtual_memory().total / (1024**3)\n",
    "    print(f\"Total RAM: {ram_gb:.2f} GB\")\n",
    "\n",
    "\n",
    "    # GPU Info\n",
    "    gpus = tf.config.list_physical_devices('GPU')\n",
    "    if gpus:\n",
    "        print(f\"Detected {len(gpus)} GPU(s):\")\n",
    "        for i, gpu in enumerate(gpus):\n",
    "            # Using nvidia-smi to get more detailed info as tf.config is limited\n",
    "            try:\n",
    "                # The command is split for better readability\n",
    "                cmd = [\n",
    "                    'nvidia-smi',\n",
    "                    '--query-gpu=name,memory.total,driver_version',\n",
    "                    '--format=csv,noheader,nounits'\n",
    "                ]\n",
    "                result = subprocess.check_output(cmd, encoding='utf-8').strip().split('\\n')[i]\n",
    "                name, mem_total, driver = result.split(', ')\n",
    "\n",
    "                \n",
    "                print(f\"  - GPU {i}: {name}, VRAM: {float(mem_total)/1024:.2f} GB, Driver: {driver}\")\n",
    "            except (subprocess.CalledProcessError, FileNotFoundError):\n",
    "                print(f\"  - GPU {i}: (nvidia-smi not found or failed, using TensorFlow info)\")\n",
    "                details = tf.config.experimental.get_device_details(gpu)\n",
    "                print(f\"    Name: {details.get('device_name', 'N/A')}\")\n",
    "\n",
    "    else:\n",
    "        print(\"No GPU detected by TensorFlow. Training will be on CPU.\")\n",
    "    print(\"=\"*40, \"\\n\")"
   ]
  },
  {
   "cell_type": "code",
   "execution_count": 4,
   "id": "0e33876c",
   "metadata": {},
   "outputs": [
    {
     "name": "stdout",
     "output_type": "stream",
     "text": [
      "========================================\n",
      "SYSTEM & HARDWARE INFORMATION\n",
      "========================================\n",
      "OS: Linux 6.14.0-24-generic\n",
      "CPU Cores: 4\n",
      "Total RAM: 15.50 GB\n",
      "No GPU detected by TensorFlow. Training will be on CPU.\n",
      "======================================== \n",
      "\n"
     ]
    },
    {
     "name": "stderr",
     "output_type": "stream",
     "text": [
      "2025-08-02 02:10:39.065693: E external/local_xla/xla/stream_executor/cuda/cuda_platform.cc:51] failed call to cuInit: INTERNAL: CUDA error: Failed call to cuInit: UNKNOWN ERROR (303)\n"
     ]
    }
   ],
   "source": [
    "get_system_specs()"
   ]
  }
 ],
 "metadata": {
  "kernelspec": {
   "display_name": "deep_learning-Z3tTrKYn",
   "language": "python",
   "name": "python3"
  },
  "language_info": {
   "codemirror_mode": {
    "name": "ipython",
    "version": 3
   },
   "file_extension": ".py",
   "mimetype": "text/x-python",
   "name": "python",
   "nbconvert_exporter": "python",
   "pygments_lexer": "ipython3",
   "version": "3.11.13"
  }
 },
 "nbformat": 4,
 "nbformat_minor": 5
}
