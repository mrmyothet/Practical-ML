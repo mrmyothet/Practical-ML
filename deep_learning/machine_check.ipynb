{
 "cells": [
  {
   "cell_type": "code",
   "execution_count": null,
   "id": "b5decccd",
   "metadata": {},
   "outputs": [],
   "source": [
    "import tensorflow as tf\n",
    "from tensorflow.keras import layers, models, datasets, optimizers\n",
    "from tensorflow.keras import mixed_precision\n",
    "import os\n",
    "import psutil\n",
    "import platform\n",
    "import subprocess"
   ]
  },
  {
   "cell_type": "code",
   "execution_count": null,
   "id": "805a3e89",
   "metadata": {},
   "outputs": [],
   "source": [
    "import tensorflow as tf\n",
    "tf.__version__"
   ]
  },
  {
   "cell_type": "code",
   "execution_count": null,
   "id": "fd534e16",
   "metadata": {},
   "outputs": [],
   "source": [
    "def get_system_specs():\n",
    "    \"\"\"Gathers and prints information about the system's hardware.\"\"\"\n",
    "    print(\"=\"*40)\n",
    "    print(\"SYSTEM & HARDWARE INFORMATION\")\n",
    "    print(\"=\"*40)\n",
    "\n",
    "    # OS Info\n",
    "    print(f\"OS: {platform.system()} {platform.release()}\")\n",
    "\n",
    "    # CPU Info\n",
    "    print(f\"CPU Cores: {psutil.cpu_count(logical=True)}\")\n",
    "\n",
    "    # RAM Info\n",
    "    ram_gb = psutil.virtual_memory().total / (1024**3)\n",
    "    print(f\"Total RAM: {ram_gb:.2f} GB\")\n",
    "\n",
    "\n",
    "    # GPU Info\n",
    "    gpus = tf.config.list_physical_devices('GPU')\n",
    "    if gpus:\n",
    "        print(f\"Detected {len(gpus)} GPU(s):\")\n",
    "        for i, gpu in enumerate(gpus):\n",
    "            # Using nvidia-smi to get more detailed info as tf.config is limited\n",
    "            try:\n",
    "                # The command is split for better readability\n",
    "                cmd = [\n",
    "                    'nvidia-smi',\n",
    "                    '--query-gpu=name,memory.total,driver_version',\n",
    "                    '--format=csv,noheader,nounits'\n",
    "                ]\n",
    "                result = subprocess.check_output(cmd, encoding='utf-8').strip().split('\\n')[i]\n",
    "                name, mem_total, driver = result.split(', ')\n",
    "\n",
    "                \n",
    "                print(f\"  - GPU {i}: {name}, VRAM: {float(mem_total)/1024:.2f} GB, Driver: {driver}\")\n",
    "            except (subprocess.CalledProcessError, FileNotFoundError):\n",
    "                print(f\"  - GPU {i}: (nvidia-smi not found or failed, using TensorFlow info)\")\n",
    "                details = tf.config.experimental.get_device_details(gpu)\n",
    "                print(f\"    Name: {details.get('device_name', 'N/A')}\")\n",
    "\n",
    "    else:\n",
    "        print(\"No GPU detected by TensorFlow. Training will be on CPU.\")\n",
    "    print(\"=\"*40, \"\\n\")"
   ]
  },
  {
   "cell_type": "code",
   "execution_count": null,
   "id": "0e33876c",
   "metadata": {},
   "outputs": [],
   "source": [
    "get_system_specs()"
   ]
  }
 ],
 "metadata": {
  "language_info": {
   "name": "python"
  }
 },
 "nbformat": 4,
 "nbformat_minor": 5
}
