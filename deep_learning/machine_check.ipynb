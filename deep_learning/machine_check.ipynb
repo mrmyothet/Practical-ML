{
 "cells": [
  {
   "cell_type": "code",
   "execution_count": 1,
   "id": "b5decccd",
   "metadata": {},
   "outputs": [
    {
     "name": "stderr",
     "output_type": "stream",
     "text": [
      "2025-08-04 00:34:08.088505: I external/local_xla/xla/tsl/cuda/cudart_stub.cc:32] Could not find cuda drivers on your machine, GPU will not be used.\n",
      "2025-08-04 00:34:08.097870: I external/local_xla/xla/tsl/cuda/cudart_stub.cc:32] Could not find cuda drivers on your machine, GPU will not be used.\n",
      "2025-08-04 00:34:08.122779: E external/local_xla/xla/stream_executor/cuda/cuda_fft.cc:467] Unable to register cuFFT factory: Attempting to register factory for plugin cuFFT when one has already been registered\n",
      "WARNING: All log messages before absl::InitializeLog() is called are written to STDERR\n",
      "E0000 00:00:1754242448.166063    5211 cuda_dnn.cc:8579] Unable to register cuDNN factory: Attempting to register factory for plugin cuDNN when one has already been registered\n",
      "E0000 00:00:1754242448.180921    5211 cuda_blas.cc:1407] Unable to register cuBLAS factory: Attempting to register factory for plugin cuBLAS when one has already been registered\n",
      "W0000 00:00:1754242448.227617    5211 computation_placer.cc:177] computation placer already registered. Please check linkage and avoid linking the same target more than once.\n",
      "W0000 00:00:1754242448.227687    5211 computation_placer.cc:177] computation placer already registered. Please check linkage and avoid linking the same target more than once.\n",
      "W0000 00:00:1754242448.227700    5211 computation_placer.cc:177] computation placer already registered. Please check linkage and avoid linking the same target more than once.\n",
      "W0000 00:00:1754242448.227711    5211 computation_placer.cc:177] computation placer already registered. Please check linkage and avoid linking the same target more than once.\n"
     ]
    }
   ],
   "source": [
    "import tensorflow as tf\n",
    "from tensorflow.keras import layers, models, datasets, optimizers\n",
    "from tensorflow.keras import mixed_precision\n",
    "import os\n",
    "import psutil\n",
    "import platform\n",
    "import subprocess"
   ]
  },
  {
   "cell_type": "code",
   "execution_count": 2,
   "id": "805a3e89",
   "metadata": {},
   "outputs": [
    {
     "data": {
      "text/plain": [
       "'2.19.0'"
      ]
     },
     "execution_count": 2,
     "metadata": {},
     "output_type": "execute_result"
    }
   ],
   "source": [
    "import tensorflow as tf\n",
    "tf.__version__"
   ]
  },
  {
   "cell_type": "code",
   "execution_count": 3,
   "id": "fd534e16",
   "metadata": {},
   "outputs": [],
   "source": [
    "def get_system_specs():\n",
    "    \"\"\"Gathers and prints information about the system's hardware.\"\"\"\n",
    "    print(\"=\"*40)\n",
    "    print(\"SYSTEM & HARDWARE INFORMATION\")\n",
    "    print(\"=\"*40)\n",
    "\n",
    "    # OS Info\n",
    "    print(f\"OS: {platform.system()} {platform.release()}\")\n",
    "\n",
    "    # CPU Info\n",
    "    print(f\"CPU Cores: {psutil.cpu_count(logical=True)}\")\n",
    "\n",
    "    # RAM Info\n",
    "    ram_gb = psutil.virtual_memory().total / (1024**3)\n",
    "    print(f\"Total RAM: {ram_gb:.2f} GB\")\n",
    "\n",
    "\n",
    "    # GPU Info\n",
    "    gpus = tf.config.list_physical_devices('GPU')\n",
    "    if gpus:\n",
    "        print(f\"Detected {len(gpus)} GPU(s):\")\n",
    "        for i, gpu in enumerate(gpus):\n",
    "            # Using nvidia-smi to get more detailed info as tf.config is limited\n",
    "            try:\n",
    "                # The command is split for better readability\n",
    "                cmd = [\n",
    "                    'nvidia-smi',\n",
    "                    '--query-gpu=name,memory.total,driver_version',\n",
    "                    '--format=csv,noheader,nounits'\n",
    "                ]\n",
    "                result = subprocess.check_output(cmd, encoding='utf-8').strip().split('\\n')[i]\n",
    "                name, mem_total, driver = result.split(', ')\n",
    "\n",
    "                \n",
    "                print(f\"  - GPU {i}: {name}, VRAM: {float(mem_total)/1024:.2f} GB, Driver: {driver}\")\n",
    "            except (subprocess.CalledProcessError, FileNotFoundError):\n",
    "                print(f\"  - GPU {i}: (nvidia-smi not found or failed, using TensorFlow info)\")\n",
    "                details = tf.config.experimental.get_device_details(gpu)\n",
    "                print(f\"    Name: {details.get('device_name', 'N/A')}\")\n",
    "\n",
    "    else:\n",
    "        print(\"No GPU detected by TensorFlow. Training will be on CPU.\")\n",
    "    print(\"=\"*40, \"\\n\")"
   ]
  },
  {
   "cell_type": "code",
   "execution_count": 4,
   "id": "0e33876c",
   "metadata": {},
   "outputs": [
    {
     "name": "stdout",
     "output_type": "stream",
     "text": [
      "========================================\n",
      "SYSTEM & HARDWARE INFORMATION\n",
      "========================================\n",
      "OS: Linux 6.6.87.2-microsoft-standard-WSL2\n",
      "CPU Cores: 24\n",
      "Total RAM: 11.66 GB\n",
      "No GPU detected by TensorFlow. Training will be on CPU.\n",
      "======================================== \n",
      "\n"
     ]
    },
    {
     "name": "stderr",
     "output_type": "stream",
     "text": [
      "E0000 00:00:1754242455.608657    5211 cuda_executor.cc:1228] INTERNAL: CUDA Runtime error: Failed call to cudaGetRuntimeVersion: Error loading CUDA libraries. GPU will not be used.: Error loading CUDA libraries. GPU will not be used.\n",
      "W0000 00:00:1754242455.622720    5211 gpu_device.cc:2341] Cannot dlopen some GPU libraries. Please make sure the missing libraries mentioned above are installed properly if you would like to use GPU. Follow the guide at https://www.tensorflow.org/install/gpu for how to download and setup the required libraries for your platform.\n",
      "Skipping registering GPU devices...\n"
     ]
    }
   ],
   "source": [
    "get_system_specs()"
   ]
  }
 ],
 "metadata": {
  "kernelspec": {
   "display_name": "3.11.13.WAI",
   "language": "python",
   "name": "python3"
  },
  "language_info": {
   "codemirror_mode": {
    "name": "ipython",
    "version": 3
   },
   "file_extension": ".py",
   "mimetype": "text/x-python",
   "name": "python",
   "nbconvert_exporter": "python",
   "pygments_lexer": "ipython3",
   "version": "3.11.13"
  }
 },
 "nbformat": 4,
 "nbformat_minor": 5
}
