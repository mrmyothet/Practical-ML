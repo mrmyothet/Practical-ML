{
 "cells": [
  {
   "cell_type": "code",
   "execution_count": 2,
   "id": "2180b593",
   "metadata": {},
   "outputs": [
    {
     "name": "stdout",
     "output_type": "stream",
     "text": [
      "Your Sudent ID is: ML017_MyoThet\n"
     ]
    }
   ],
   "source": [
    "import os\n",
    "from dotenv import load_dotenv\n",
    "load_dotenv()\n",
    "\n",
    "ML_Summer_School_ID = os.getenv('ML_Summer_School_ID')\n",
    "print(\"Your Sudent ID is: \" + ML_Summer_School_ID)"
   ]
  },
  {
   "cell_type": "code",
   "execution_count": 4,
   "id": "f100fdab",
   "metadata": {},
   "outputs": [],
   "source": [
    "import pandas as pd\n",
    "from sklearn.model_selection import train_test_split\n",
    "from sklearn.tree import DecisionTreeClassifier, plot_tree\n",
    "from sklearn.metrics import accuracy_score, classification_report\n",
    "import matplotlib.pyplot as plt\n",
    "import numpy as np\n"
   ]
  },
  {
   "cell_type": "code",
   "execution_count": 5,
   "id": "e04e0e93",
   "metadata": {},
   "outputs": [],
   "source": [
    "np.random.seed(42) # for reproducibility\n",
    "n_samples = 500"
   ]
  },
  {
   "cell_type": "code",
   "execution_count": 6,
   "id": "aa9a8f15",
   "metadata": {},
   "outputs": [],
   "source": [
    "data = {\n",
    "    'MonthlyCharges': np.random.uniform(20, 120, n_samples),\n",
    "    'TotalCharges': np.random.uniform(50, 5000, n_samples),\n",
    "    'Contract': np.random.choice(['Month-to-month', 'One year', 'Two year'], n_samples, p=[0.6, 0.25, 0.15]),\n",
    "    'Dependents': np.random.choice(['Yes', 'No'], n_samples, p=[0.3, 0.7]),\n",
    "    'SeniorCitizen': np.random.choice([0, 1], n_samples, p=[0.8, 0.2]),\n",
    "    'InternetService': np.random.choice(['DSL', 'Fiber optic', 'No'], n_samples, p=[0.35, 0.45, 0.2]),\n",
    "    'PaymentMethod': np.random.choice(['Electronic check', 'Mailed check', 'Bank transfer (automatic)', 'Credit card (automatic)'], n_samples, p=[0.3, 0.25, 0.25, 0.2]),\n",
    "    'Tenure': np.random.randint(1, 72, n_samples)\n",
    "}\n",
    "df = pd.DataFrame(data)"
   ]
  },
  {
   "cell_type": "code",
   "execution_count": 7,
   "id": "a7268d5b",
   "metadata": {},
   "outputs": [],
   "source": [
    "\n",
    "# Introduce some correlation for 'Churn'\n",
    "df['Churn'] = 'No'\n",
    "df.loc[\n",
    "    (df['MonthlyCharges'] > 80) |\n",
    "    (df['Contract'] == 'Month-to-month') |\n",
    "    (df['Tenure'] < 12) & (df['InternetService'] == 'Fiber optic')\n",
    ", 'Churn'] = 'Yes'"
   ]
  },
  {
   "cell_type": "code",
   "execution_count": 8,
   "id": "f66d7718",
   "metadata": {},
   "outputs": [
    {
     "name": "stdout",
     "output_type": "stream",
     "text": [
      "Dataset Head:\n",
      "   MonthlyCharges  TotalCharges        Contract Dependents  SeniorCitizen  \\\n",
      "0       57.454012   3505.900484  Month-to-month         No              0   \n",
      "1      115.071431   2703.677013  Month-to-month         No              0   \n",
      "2       93.199394   1582.161701        Two year        Yes              1   \n",
      "3       79.865848   4078.285348        One year         No              0   \n",
      "4       35.601864   3439.419304        One year         No              0   \n",
      "\n",
      "  InternetService              PaymentMethod  Tenure Churn  \n",
      "0              No  Bank transfer (automatic)      35    No  \n",
      "1     Fiber optic  Bank transfer (automatic)      51    No  \n",
      "2     Fiber optic           Electronic check      37   Yes  \n",
      "3              No  Bank transfer (automatic)      57    No  \n",
      "4             DSL  Bank transfer (automatic)       8    No  \n",
      "\n",
      "Churn distribution:\n",
      "Churn\n",
      "Yes    269\n",
      "No     231\n",
      "Name: count, dtype: int64\n"
     ]
    }
   ],
   "source": [
    "# Balance the churn somewhat\n",
    "churn_yes_count = df[df['Churn'] == 'Yes'].shape[0]\n",
    "churn_no_count = df[df['Churn'] == 'No'].shape[0]\n",
    "if churn_yes_count < churn_no_count / 2: # Artificially increase churn if too low\n",
    "    no_indices = df[df['Churn'] == 'No'].index\n",
    "    random_no_indices = np.random.choice(no_indices, size=int(churn_no_count * 0.3), replace=False) # Convert some 'No' to 'Yes'\n",
    "    df.loc[random_no_indices, 'Churn'] = 'Yes'\n",
    "elif churn_yes_count > churn_no_count * 2: # Artificially decrease churn if too high\n",
    "    yes_indices = df[df['Churn'] == 'Yes'].index\n",
    "    random_yes_indices = np.random.choice(yes_indices, size=int(churn_yes_count * 0.3), replace=False) # Convert some 'Yes' to 'No'\n",
    "    df.loc[random_yes_indices, 'Churn'] = 'No'\n",
    "\n",
    "print(\"Dataset Head:\")\n",
    "print(df.head())\n",
    "print(\"\\nChurn distribution:\")\n",
    "print(df['Churn'].value_counts())"
   ]
  },
  {
   "cell_type": "code",
   "execution_count": 9,
   "id": "210f8e77",
   "metadata": {},
   "outputs": [],
   "source": [
    "file_name = f\"electric_db_by_{ML_Summer_School_ID}.csv\"\n",
    "df.to_csv(file_name, index=False)"
   ]
  }
 ],
 "metadata": {
  "kernelspec": {
   "display_name": "DecisionTree-_QoBF6wc",
   "language": "python",
   "name": "python3"
  },
  "language_info": {
   "codemirror_mode": {
    "name": "ipython",
    "version": 3
   },
   "file_extension": ".py",
   "mimetype": "text/x-python",
   "name": "python",
   "nbconvert_exporter": "python",
   "pygments_lexer": "ipython3",
   "version": "3.10.18"
  }
 },
 "nbformat": 4,
 "nbformat_minor": 5
}
